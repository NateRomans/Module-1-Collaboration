{
 "cells": [
  {
   "cell_type": "code",
   "execution_count": null,
   "id": "b3949512-d5b4-44e6-a55d-494c1f1f1225",
   "metadata": {},
   "outputs": [
    {
     "name": "stdin",
     "output_type": "stream",
     "text": [
      "Enter your last name or ZZZ to QUIT:  Romans\n",
      "Enter your first name:  Nate\n",
      "Enter your GPA:  3.6\n"
     ]
    },
    {
     "name": "stdout",
     "output_type": "stream",
     "text": [
      "\n",
      "Nate Romans has made the Deans list!\n",
      "\n"
     ]
    },
    {
     "name": "stdin",
     "output_type": "stream",
     "text": [
      "Enter your last name or ZZZ to QUIT:  Rogers\n",
      "Enter your first name:  Sally\n"
     ]
    }
   ],
   "source": [
    "'''\n",
    "\n",
    "Name: Nathanael Romans\n",
    "File name: MO2 Case Study\n",
    "\n",
    "App description: This application is designed to test and determine whether a student has made the Deans list or the Honor Roll.\n",
    "The application will promt the user for the students last name using 'ZZZ' as a sentinel value to quit the application.\n",
    "The application will then promt the user for the students first name and the students gpa. if the gpa is 3.5 or greater, the\n",
    "app will print that the student made the Deans list, if the gpa is 3.25 or greater it will print that the student made the Honor Roll.\n",
    "\n",
    "'''\n",
    "\n",
    "QUIT = 'ZZZ'  #sentinel value\n",
    "\n",
    "Lname = input('Enter your last name or ZZZ to QUIT: ')  #promt for last name\n",
    "\n",
    "#while loop\n",
    "while True:\n",
    "    if Lname == QUIT: #if last name is the sentinel value\n",
    "        break #breaks from loop ending the program\n",
    "    else:\n",
    "        Fname = input('Enter your first name: ') #promt for first name\n",
    "        \n",
    "    gpa = float(input('Enter your GPA: ')) #promt for GPA\n",
    "    \n",
    "    print() #prints an empty line for spacing and organizing purposes\n",
    "\n",
    "    #if, else statement to determine if the student made the Deans list or Honor Roll\n",
    "    if gpa >= 3.5:\n",
    "        print(Fname, Lname, 'has made the Deans list!')\n",
    "    elif gpa < 3.5 and gpa >= 3.25:\n",
    "        print(Fname, Lname, 'has made the Honor Roll!')\n",
    "    else:\n",
    "        print(Fname, Lname, 'Did not make the Deans list or the Honor Roll.')\n",
    "        \n",
    "    print() #prints an empty line for spacing and organizing purposes\n",
    "    \n",
    "    Lname = input('Enter your last name or ZZZ to QUIT: ') #promt for last name restarting the loop"
   ]
  }
 ],
 "metadata": {
  "kernelspec": {
   "display_name": "anaconda-ai-2024.04-py310",
   "language": "python",
   "name": "conda-env-anaconda-ai-2024.04-py310-py"
  },
  "language_info": {
   "codemirror_mode": {
    "name": "ipython",
    "version": 3
   },
   "file_extension": ".py",
   "mimetype": "text/x-python",
   "name": "python",
   "nbconvert_exporter": "python",
   "pygments_lexer": "ipython3",
   "version": "3.10.13"
  }
 },
 "nbformat": 4,
 "nbformat_minor": 5
}
