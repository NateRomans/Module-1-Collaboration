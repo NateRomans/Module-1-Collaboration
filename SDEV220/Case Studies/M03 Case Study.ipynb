{
 "cells": [
  {
   "cell_type": "code",
   "execution_count": null,
   "id": "109bcdbf-0de5-49a5-a6c3-90d22323c4c5",
   "metadata": {},
   "outputs": [],
   "source": [
    "#M03 Case Study\n",
    "\n",
    "\n",
    "#creating super class 'Vehicle'\n",
    "class Vehicle:\n",
    "    def __init__(self, vehicle_type): #defining Vehicle attributes\n",
    "        self.vehicle_type = vehicle_type\n",
    "\n",
    "#crating sub class 'Automobile'\n",
    "class Automobile(Vehicle):\n",
    "    def __init__(self, vehicle_type, year, make, model, doors, roof): #defining Automobile attributes\n",
    "        super().__init__(vehicle_type)\n",
    "        self.year = year\n",
    "        self.make = make\n",
    "        self.model = model\n",
    "        self.doors = doors\n",
    "        self.roof = roof\n",
    "\n",
    "#creating a function for user inputs\n",
    "def get_user_input():\n",
    "    #collecting user inputs\n",
    "    vehicle_type = input('what type of vehicle do you have? ')\n",
    "    year = input('Enter the year: ')\n",
    "    make = input('Enter the make: ')\n",
    "    model = input('Enter the model: ')\n",
    "    doors = input('Enter the number of doors (2 or 4): ')\n",
    "    roof = input('Enter the type of roof (solid or sun roof): ')\n",
    "    return vehicle_type, year, make, model, doors, roof #returns the inputs in order\n",
    "\n",
    "#creating a function for displaying the automobile details\n",
    "def print_automobile_details(automobile):\n",
    "    #printing automobile details\n",
    "    print(f'Vehicle Type: {automobile.vehicle_type}')\n",
    "    print(f'Year: {automobile.year}')\n",
    "    print(f'Make: {automobile.make}')\n",
    "    print(f'Model: {automobile.model}')\n",
    "    print(f'Number of doors: {automobile.doors}')\n",
    "    print(f'Type of roof: {automobile.roof}')\n",
    "\n",
    "#creating the main function to run all of the above code\n",
    "def main():\n",
    "    #listing values to be obtained when calling the get_user_input function\n",
    "    vehicle_type, year, make, model, doors, roof = get_user_input()\n",
    "\n",
    "    #storing values in the Automobile class in the automobile object\n",
    "    automobile = Automobile(vehicle_type, year, make, model, doors, roof)\n",
    "\n",
    "    #calls the print_automobile_details function\n",
    "    print_automobile_details(automobile)\n",
    "\n",
    "#python syntax for executing the main function\n",
    "if __name__ == '__main__':\n",
    "    main()\n"
   ]
  }
 ],
 "metadata": {
  "kernelspec": {
   "display_name": "anaconda-ai-2024.04-py310",
   "language": "python",
   "name": "conda-env-anaconda-ai-2024.04-py310-py"
  },
  "language_info": {
   "codemirror_mode": {
    "name": "ipython",
    "version": 3
   },
   "file_extension": ".py",
   "mimetype": "text/x-python",
   "name": "python",
   "nbconvert_exporter": "python",
   "pygments_lexer": "ipython3",
   "version": "3.10.13"
  }
 },
 "nbformat": 4,
 "nbformat_minor": 5
}
