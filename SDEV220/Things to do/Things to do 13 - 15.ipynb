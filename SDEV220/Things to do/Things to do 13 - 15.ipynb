{
 "cells": [
  {
   "cell_type": "code",
   "execution_count": null,
   "id": "ec220d07-7838-4f3a-a526-cc49d2355e21",
   "metadata": {},
   "outputs": [],
   "source": [
    "#Things to do 13.1\n",
    "\n",
    "from datetime import date\n",
    "\n",
    "current_date = str(date.today())\n",
    "\n",
    "with open(\"today.txt\", \"w\") as file:\n",
    "    file.write(current_date)\n"
   ]
  },
  {
   "cell_type": "code",
   "execution_count": null,
   "id": "ce1f3350-4470-4709-81eb-e68ff344c0cd",
   "metadata": {},
   "outputs": [],
   "source": []
  },
  {
   "cell_type": "code",
   "execution_count": null,
   "id": "d57614f7-e03a-4804-b3c8-66211d667a0f",
   "metadata": {},
   "outputs": [],
   "source": [
    "#Things to do 13.2\n",
    "\n",
    "with open(\"today.txt\", \"r\") as file:\n",
    "    today_string = file.read()"
   ]
  },
  {
   "cell_type": "code",
   "execution_count": null,
   "id": "0cd6fdb6-7657-403a-bb34-febc4ba08928",
   "metadata": {},
   "outputs": [],
   "source": []
  },
  {
   "cell_type": "code",
   "execution_count": null,
   "id": "95a09a3d-ca4b-4e7a-bd49-475b84debf8f",
   "metadata": {},
   "outputs": [],
   "source": [
    "#Things to do 13.3\n",
    "\n",
    "from datetime import datetime\n",
    "\n",
    "with open(\"today.txt\", \"r\") as file:\n",
    "    today_string = file.read()\n",
    "\n",
    "parsed_date = datetime.strptime(today_string, \"%Y-%m-%d\")"
   ]
  },
  {
   "cell_type": "code",
   "execution_count": null,
   "id": "cb44283e-d9f4-4e53-811b-cab2d7f64404",
   "metadata": {},
   "outputs": [],
   "source": []
  },
  {
   "cell_type": "code",
   "execution_count": 7,
   "id": "a0ade5ff-5f90-4964-bcd8-bbcfa6b66e23",
   "metadata": {},
   "outputs": [
    {
     "name": "stdout",
     "output_type": "stream",
     "text": [
      "Process 3: 2025-02-19 22:41:45.700688\n",
      "Process 1: 2025-02-19 22:41:45.713328\n",
      "Process 2: 2025-02-19 22:41:45.886339\n"
     ]
    }
   ],
   "source": [
    "#Things to do 15.1\n",
    "\n",
    "import multiprocessing\n",
    "import time\n",
    "import random\n",
    "import datetime\n",
    "\n",
    "def print_time(process_name):\n",
    "    wait_time = random.random()\n",
    "    time.sleep(wait_time)\n",
    "    print(f\"{process_name}: {datetime.datetime.now()}\")\n",
    "\n",
    "if __name__ == \"__main__\":\n",
    "    processes = []\n",
    "\n",
    "    for i in range(3):\n",
    "        process = multiprocessing.Process(target=print_time, args=(f\"Process {i+1}\",))\n",
    "        processes.append(process)\n",
    "        process.start()\n",
    "\n",
    "    for process in processes:\n",
    "        process.join()"
   ]
  },
  {
   "cell_type": "code",
   "execution_count": null,
   "id": "1f17fde7-d51e-42a7-b0f2-aeecc8834d1f",
   "metadata": {},
   "outputs": [],
   "source": []
  }
 ],
 "metadata": {
  "kernelspec": {
   "display_name": "anaconda-ai-2024.04-py310",
   "language": "python",
   "name": "conda-env-anaconda-ai-2024.04-py310-py"
  },
  "language_info": {
   "codemirror_mode": {
    "name": "ipython",
    "version": 3
   },
   "file_extension": ".py",
   "mimetype": "text/x-python",
   "name": "python",
   "nbconvert_exporter": "python",
   "pygments_lexer": "ipython3",
   "version": "3.10.13"
  }
 },
 "nbformat": 4,
 "nbformat_minor": 5
}
