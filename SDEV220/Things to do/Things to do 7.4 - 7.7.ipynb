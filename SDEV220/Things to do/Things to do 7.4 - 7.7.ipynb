{
 "cells": [
  {
   "cell_type": "code",
   "execution_count": 7,
   "id": "3e07f752-965a-4b8b-942c-810c8f656063",
   "metadata": {},
   "outputs": [
    {
     "name": "stdout",
     "output_type": "stream",
     "text": [
      "['mozzerella', 'cinderella', 'salmonella']\n",
      "\n",
      "['mozzerella', 'Cinderella', 'salmonella']\n",
      "\n",
      "['MOZZERELLA', 'Cinderella', 'salmonella']\n",
      "\n",
      "You got rid of Salmonella! Heres a Nobel prize!\n",
      "\n",
      "['MOZZERELLA', 'Cinderella']\n"
     ]
    }
   ],
   "source": [
    "\n",
    "#Things to do 7.4\n",
    "\n",
    "\n",
    "things = ['mozzerella', 'cinderella', 'salmonella'] #creating list 'things'\n",
    "\n",
    "print(things) #printing things\n",
    "print()\n",
    "\n",
    "\n",
    "\n",
    "#Things to do 7.5\n",
    "\n",
    "\n",
    "things[1] = things[1].capitalize() #used thing[1] to get the 2nd string in things and .capitalize() to capitalize the first letter\n",
    "\n",
    "print(things) #print updated list\n",
    "print()\n",
    "'''\n",
    "\n",
    "Capitalize the element in things that refers to a person\n",
    "and then print the list. Did it change the element in the list?\n",
    "\n",
    "yes, the C in cinderella is now capital\n",
    "\n",
    "'''\n",
    "\n",
    "\n",
    "#Things to do 7.6\n",
    "\n",
    "\n",
    "#used things[0] to get the first string in things and .upper() to make it all upper case\n",
    "things[0] = things[0].upper()\n",
    "\n",
    "print(things) #printing updated list\n",
    "print()\n",
    "\n",
    "\n",
    "\n",
    "#Things to do 7.7\n",
    "\n",
    "\n",
    "#if salmonella is in things, then .remove to delete it\n",
    "if 'salmonella' in things:\n",
    "    things.remove('salmonella')\n",
    "    \n",
    "    print('You got rid of Salmonella! Heres a Nobel prize!\\n') #collect nobel prize\n",
    "    print(things)#print updated list\n",
    "\n",
    "    "
   ]
  },
  {
   "cell_type": "code",
   "execution_count": null,
   "id": "5762bd8c-e356-4627-9b43-9915f4e64051",
   "metadata": {},
   "outputs": [],
   "source": []
  }
 ],
 "metadata": {
  "kernelspec": {
   "display_name": "anaconda-ai-2024.04-py310",
   "language": "python",
   "name": "conda-env-anaconda-ai-2024.04-py310-py"
  },
  "language_info": {
   "codemirror_mode": {
    "name": "ipython",
    "version": 3
   },
   "file_extension": ".py",
   "mimetype": "text/x-python",
   "name": "python",
   "nbconvert_exporter": "python",
   "pygments_lexer": "ipython3",
   "version": "3.10.13"
  }
 },
 "nbformat": 4,
 "nbformat_minor": 5
}
