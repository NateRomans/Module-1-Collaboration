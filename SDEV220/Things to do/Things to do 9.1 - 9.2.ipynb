{
 "cells": [
  {
   "cell_type": "code",
   "execution_count": 11,
   "id": "0c45e55e-a666-4056-89a8-7a936fc97eb2",
   "metadata": {},
   "outputs": [
    {
     "name": "stdout",
     "output_type": "stream",
     "text": [
      "['Harry', 'Ron', 'Hermione']\n",
      "5\n"
     ]
    }
   ],
   "source": [
    "\n",
    "#Things to do 9.1\n",
    "\n",
    "\n",
    "def good():#creating a function called good\n",
    "    \n",
    "    return['Harry', 'Ron', 'Hermione'] #returns list\n",
    "\n",
    "print(good()) #calling good()\n",
    "\n",
    "\n",
    "\n",
    "\n",
    "#Things to do 9.2\n",
    "\n",
    "\n",
    "def get_odds(): #creating function 'get_odds'\n",
    "\n",
    "    for num in range(10):#creating object num in the range of 10\n",
    "        \n",
    "        if num % 2 != 0: #if the remainder of num divided by 2 does not equal 0\n",
    "            yield num #yield or skip that number\n",
    "\n",
    "\n",
    "\n",
    "i = 0 #this is the counter variable\n",
    "\n",
    "\n",
    "for num in get_odds(): #for the num object inside of get_odds()\n",
    "    \n",
    "    i += 1 #increment i with each pass of get_odds()\n",
    "    \n",
    "    if i == 3: #if i equals 3\n",
    "        \n",
    "        print(num) #print num\n",
    "        break #break from loop\n"
   ]
  },
  {
   "cell_type": "code",
   "execution_count": null,
   "id": "4f3852b0-b5e8-4cac-bec4-44a2b82ecad0",
   "metadata": {},
   "outputs": [],
   "source": []
  }
 ],
 "metadata": {
  "kernelspec": {
   "display_name": "anaconda-ai-2024.04-py310",
   "language": "python",
   "name": "conda-env-anaconda-ai-2024.04-py310-py"
  },
  "language_info": {
   "codemirror_mode": {
    "name": "ipython",
    "version": 3
   },
   "file_extension": ".py",
   "mimetype": "text/x-python",
   "name": "python",
   "nbconvert_exporter": "python",
   "pygments_lexer": "ipython3",
   "version": "3.10.13"
  }
 },
 "nbformat": 4,
 "nbformat_minor": 5
}
