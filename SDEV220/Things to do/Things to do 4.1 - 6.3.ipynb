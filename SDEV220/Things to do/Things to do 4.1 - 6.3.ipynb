{
 "cells": [
  {
   "cell_type": "code",
   "execution_count": 11,
   "id": "e710ccdc-0e02-4aea-a5c5-f71d5eb2fefc",
   "metadata": {},
   "outputs": [
    {
     "name": "stdin",
     "output_type": "stream",
     "text": [
      "Guess a number between 1 and 10:  3\n"
     ]
    },
    {
     "name": "stdout",
     "output_type": "stream",
     "text": [
      "Too low, try again\n"
     ]
    },
    {
     "name": "stdin",
     "output_type": "stream",
     "text": [
      "Guess a number between 1 and 10:  7\n"
     ]
    },
    {
     "name": "stdout",
     "output_type": "stream",
     "text": [
      "Too high, try again\n"
     ]
    },
    {
     "name": "stdin",
     "output_type": "stream",
     "text": [
      "Guess a number between 1 and 10:  6\n"
     ]
    },
    {
     "name": "stdout",
     "output_type": "stream",
     "text": [
      "Just right!\n"
     ]
    }
   ],
   "source": [
    "#Things to do 4.1\n",
    "\n",
    "\n",
    "secret = 6 #variable 'secret'\n",
    "\n",
    "guess = int(input('Guess a number between 1 and 10: ')) #variable guess as user input\n",
    "\n",
    "run = True #variable run to control when exiting the while loop\n",
    "\n",
    "\n",
    "while run: #initiating while loop\n",
    "    if guess < secret: #if guess is less than secret, print 'too low'\n",
    "        print('Too low, try again')\n",
    "    elif guess > secret: #if guess is greater than secret, print 'too high'\n",
    "        print('Too high, try again')\n",
    "        \n",
    "    guess = int(input('Guess a number between 1 and 10: ')) #repeating guess input to restart the loop\n",
    "    \n",
    "    if guess == secret: #if guess equals secret, run equals false to break the loop, then prints 'just right'\n",
    "        run = False\n",
    "        print('Just right!')"
   ]
  },
  {
   "cell_type": "code",
   "execution_count": null,
   "id": "de83fef0-f9f6-454d-8b37-cadeebf7fb20",
   "metadata": {},
   "outputs": [],
   "source": []
  },
  {
   "cell_type": "code",
   "execution_count": 13,
   "id": "5eec7dc6-e964-4a22-9935-0d21ba9b34a2",
   "metadata": {},
   "outputs": [
    {
     "name": "stdout",
     "output_type": "stream",
     "text": [
      "cherry matches one characteristic but not both\n",
      "pea matches characteristics\n",
      "watermelon matches one characteristic but not both\n",
      "pumpkin does not match either characteristic.\n"
     ]
    }
   ],
   "source": [
    "#Things to do 4.2\n",
    "\n",
    "#setting variables small and green\n",
    "small = True\n",
    "green = True\n",
    "\n",
    "\n",
    "#inserting the list of items into a dictionary (items) in order to assign the characteristics of small and green to them\n",
    "items = {\n",
    "'cherry': {'small': True, 'green': False},\n",
    "'pea': {'small': True, 'green': True},\n",
    "'watermelon': {'small': False, 'green': True},\n",
    "'pumpkin': {'small': False, 'green': False}\n",
    "}\n",
    "\n",
    "\n",
    "for item, characteristics in items.items(): #for the characteristic of each item in the dictionary\n",
    "    \n",
    "    if characteristics['small'] == small and characteristics['green'] == green: #if both characteristics match the boolean value assigned to the variables small and green\n",
    "        print(f'{item} matches characteristics') #print the item and state that it matches the characteristics\n",
    "        \n",
    "    elif characteristics['small'] == small or characteristics['green'] == green: #if one of the characteristics matches the variable value\n",
    "        print(f'{item} matches one characteristic but not both') #print the item and state that one characteristic is a match but not both\n",
    "        \n",
    "    else: #if neither characteristics of the item matches the variable value\n",
    "        print(f'{item} does not match either characteristic.') #print the item and state that neither characteristics are a match\n",
    "\n"
   ]
  },
  {
   "cell_type": "code",
   "execution_count": null,
   "id": "3acf355d-dcc4-48d2-9d5d-b282b80c1e8e",
   "metadata": {},
   "outputs": [],
   "source": []
  },
  {
   "cell_type": "code",
   "execution_count": 15,
   "id": "3902416b-99e0-4fb2-9dbb-54e28fecad01",
   "metadata": {},
   "outputs": [
    {
     "name": "stdout",
     "output_type": "stream",
     "text": [
      "3\n",
      "2\n",
      "1\n",
      "0\n"
     ]
    }
   ],
   "source": [
    "#Things to do 6.1\n",
    "\n",
    "\n",
    "values = [3, 2, 1, 0] #initiating a list of values\n",
    "\n",
    "for value in values: #for each value inside of the list 'values'\n",
    "    print(value) #print the values\n"
   ]
  },
  {
   "cell_type": "code",
   "execution_count": null,
   "id": "9a5810a9-896c-4a90-8e6a-f889f95de026",
   "metadata": {},
   "outputs": [],
   "source": []
  },
  {
   "cell_type": "code",
   "execution_count": 17,
   "id": "7eb92315-e480-4288-8ca0-af78487eea21",
   "metadata": {},
   "outputs": [
    {
     "name": "stdout",
     "output_type": "stream",
     "text": [
      "too low\n",
      "too low\n",
      "too low\n",
      "too low\n",
      "too low\n",
      "too low\n",
      "found it!\n"
     ]
    }
   ],
   "source": [
    "#Things to do 6.2\n",
    "\n",
    "#initiating variables\n",
    "guess_me = 7\n",
    "number = 1\n",
    "\n",
    "\n",
    "while number <= guess_me: #while number is less than or equal to guess_me\n",
    "    \n",
    "    if number < guess_me: #if number is less than guess_me\n",
    "        print('too low') #print 'too low'\n",
    "\n",
    "    elif number == guess_me: #if number equals guess_me\n",
    "        print('found it!') #print 'found it!'\n",
    "        break #break from loop\n",
    "    \n",
    "    elif number > guess_me: #if number is greater than guess_me\n",
    "        print('oops') #print 'oops'\n",
    "        break #break from loop\n",
    "        \n",
    "    number += 1 #increment number by 1\n"
   ]
  },
  {
   "cell_type": "code",
   "execution_count": null,
   "id": "dfc42e00-3212-487d-95ad-53a4c853ad6f",
   "metadata": {},
   "outputs": [],
   "source": []
  },
  {
   "cell_type": "code",
   "execution_count": 19,
   "id": "8daf0982-be78-454b-96c6-a51d7f16e83c",
   "metadata": {},
   "outputs": [
    {
     "name": "stdout",
     "output_type": "stream",
     "text": [
      "too low\n",
      "too low\n",
      "too low\n",
      "too low\n",
      "too low\n",
      "found it!\n"
     ]
    }
   ],
   "source": [
    "#Things to do 6.3\n",
    "\n",
    "#setting variable guess_me to 5\n",
    "guess_me = 5\n",
    "\n",
    "#iterating a variable (number) over range 10 with a for loop\n",
    "for number in range(10):\n",
    "    \n",
    "    if number < guess_me: #if number is less than guess_me\n",
    "        print('too low') #print 'too low'\n",
    "\n",
    "    elif number == guess_me: #if number equals guess_me\n",
    "        print('found it!') #print 'found it!'\n",
    "        break #break from loop\n",
    "    \n",
    "    elif number > guess_me: #if number is greater than guess_me\n",
    "        print('oops') #print 'oops'\n",
    "        break #break from loop\n",
    "\n",
    "    \n",
    "    number += 1 #increment number by 1\n",
    "\n"
   ]
  },
  {
   "cell_type": "code",
   "execution_count": null,
   "id": "5487e04e-a817-4067-86bb-26b897b68c4f",
   "metadata": {},
   "outputs": [],
   "source": []
  }
 ],
 "metadata": {
  "kernelspec": {
   "display_name": "anaconda-ai-2024.04-py310",
   "language": "python",
   "name": "conda-env-anaconda-ai-2024.04-py310-py"
  },
  "language_info": {
   "codemirror_mode": {
    "name": "ipython",
    "version": 3
   },
   "file_extension": ".py",
   "mimetype": "text/x-python",
   "name": "python",
   "nbconvert_exporter": "python",
   "pygments_lexer": "ipython3",
   "version": "3.10.13"
  }
 },
 "nbformat": 4,
 "nbformat_minor": 5
}
