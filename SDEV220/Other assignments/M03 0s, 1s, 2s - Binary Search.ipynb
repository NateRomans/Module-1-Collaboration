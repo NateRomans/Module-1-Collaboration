{
 "cells": [
  {
   "cell_type": "code",
   "execution_count": 1,
   "id": "08e97f0c-2913-4135-bbef-559d4923e771",
   "metadata": {},
   "outputs": [
    {
     "name": "stdout",
     "output_type": "stream",
     "text": [
      "[0, 0, 1, 1, 2, 2]\n"
     ]
    }
   ],
   "source": [
    "#M03 0s, 1s, 2s\n",
    "\n",
    "\n",
    "#creating a class called Solution\n",
    "class Solution:\n",
    "    def sort012(self, arr): #creating a function called sort012\n",
    "        \n",
    "        count0 = count1 = count2 = 0 #defining 3 counter variables\n",
    "\n",
    "        for num in arr: #for each number in the given array\n",
    "            \n",
    "            if num == 0:\n",
    "                count0 += 1 #if num equals 0 increment count0 by 1\n",
    "                \n",
    "            elif num == 1:\n",
    "                count1 += 1 #if num equals 1 increment count1 by 1\n",
    "                \n",
    "            else:\n",
    "                count2 += 1 #if num equals 2 increment count2 by 1\n",
    "                \n",
    "       \n",
    "        arr[:] = [0] * count0 + [1] * count1 + [2] * count2 #Here we create 3 lists one for 0s, one for 1s, and one for 2s, per the number assigned to each counter.\n",
    "                                                            #We then assign each list to the original array (arr).\n",
    "\n",
    "        return arr #returning the new array which is now in ascending order.\n",
    "\n",
    "arr = [0, 1, 2, 0, 1, 2] #array input\n",
    "\n",
    "print(Solution().sort012(arr)) #runs and print the code\n"
   ]
  },
  {
   "cell_type": "code",
   "execution_count": null,
   "id": "4fddff81-4a66-4b69-9a21-5d65ee52e8b1",
   "metadata": {},
   "outputs": [],
   "source": []
  },
  {
   "cell_type": "code",
   "execution_count": 1,
   "id": "5891c769-36da-4798-8a57-8955aa070cf3",
   "metadata": {},
   "outputs": [
    {
     "name": "stdout",
     "output_type": "stream",
     "text": [
      "K was found at index: 4\n"
     ]
    }
   ],
   "source": [
    "#M03 Binary Search\n",
    "\n",
    "\n",
    "#creating a class called Solution\n",
    "class Solution:\n",
    "    \n",
    "    def binarysearch(self, arr, k): #defining function called binarysearch\n",
    "        \n",
    "        arr_slice = arr #assigning variable arr_slice to variable arr\n",
    "        \n",
    "        while arr_slice: #while arr is arr_slice\n",
    "            \n",
    "            if k in arr_slice: #if k is in arr_slice\n",
    "                \n",
    "                return arr.index(k) #return the index of k\n",
    "            \n",
    "            elif k not in arr_slice: #if k is not in arr_slice\n",
    "                \n",
    "                return str('None') #return the sting 'None'\n",
    "\n",
    "        \n",
    "arr = [1, 2, 3, 12, 15] #input array\n",
    "\n",
    "k = 15 #input k value\n",
    "\n",
    "print('K was found at index:', Solution().binarysearch(arr, k)) #print which index k was found at\n"
   ]
  },
  {
   "cell_type": "code",
   "execution_count": null,
   "id": "55a64d1e-1e29-4a26-86a5-19a354315be1",
   "metadata": {},
   "outputs": [],
   "source": []
  }
 ],
 "metadata": {
  "kernelspec": {
   "display_name": "anaconda-ai-2024.04-py310",
   "language": "python",
   "name": "conda-env-anaconda-ai-2024.04-py310-py"
  },
  "language_info": {
   "codemirror_mode": {
    "name": "ipython",
    "version": 3
   },
   "file_extension": ".py",
   "mimetype": "text/x-python",
   "name": "python",
   "nbconvert_exporter": "python",
   "pygments_lexer": "ipython3",
   "version": "3.10.13"
  }
 },
 "nbformat": 4,
 "nbformat_minor": 5
}
