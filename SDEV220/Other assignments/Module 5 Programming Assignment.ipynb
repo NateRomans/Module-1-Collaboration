{
 "cells": [
  {
   "cell_type": "code",
   "execution_count": null,
   "id": "6ab26e66-2b92-45b0-9c9a-0a6f1099d7f1",
   "metadata": {},
   "outputs": [],
   "source": [
    "#test_sum\n",
    "\n",
    "def test_sum():\n",
    "    assert sum([1, 2, 3]) == 6, \"Should be 6\"\n",
    "\n",
    "if __name__ == \"__main__\":\n",
    "    test_sum()\n",
    "    print(\"Everything passed\")\n",
    "\n",
    "\n",
    "#this code will print \"Everything passed\"\n"
   ]
  },
  {
   "cell_type": "code",
   "execution_count": null,
   "id": "5a4308e3-8903-4c89-b0ca-6b202b57328d",
   "metadata": {},
   "outputs": [],
   "source": []
  },
  {
   "cell_type": "code",
   "execution_count": null,
   "id": "f5c9a713-b1b6-4ec4-8557-231bd82dbef4",
   "metadata": {},
   "outputs": [],
   "source": [
    "#test_sum_2\n",
    "\n",
    "def test_sum():\n",
    "    assert sum([1, 2, 3]) == 6, \"Should be 6\"\n",
    "\n",
    "def test_sum_tuple():\n",
    "    assert sum((1, 2, 2)) == 6, \"Should be 6\"\n",
    "\n",
    "if __name__ == \"__main__\":\n",
    "    test_sum()\n",
    "    test_sum_tuple()\n",
    "    print(\"Everything passed\")\n",
    "\n",
    "#this code will result in an error message because the sum of test_sum_tuple is not 6"
   ]
  },
  {
   "cell_type": "code",
   "execution_count": null,
   "id": "1eabdb5f-274e-4a92-8882-e53bd61e433e",
   "metadata": {},
   "outputs": [],
   "source": []
  },
  {
   "cell_type": "code",
   "execution_count": null,
   "id": "79ab6a27-bc87-4372-8cf5-da2fffa2581e",
   "metadata": {},
   "outputs": [],
   "source": [
    "#test_sum_unittest\n",
    "\n",
    "import unittest\n",
    "\n",
    "class TestSum(unittest.TestCase):\n",
    "\n",
    "    def test_sum(self):\n",
    "        self.assertEqual(sum([1, 2, 3]), 6, \"Should be 6\")\n",
    "\n",
    "    def test_sum_tuple(self):\n",
    "        self.assertEqual(sum((1, 2, 2)), 6, \"Should be 6\")\n",
    "\n",
    "if __name__ == '__main__':\n",
    "    unittest.main()\n",
    "\n",
    "#running this code in terminal with the unittest command will result in it running 2 tests the first passing since it equals 6 and the second failing"
   ]
  },
  {
   "cell_type": "code",
   "execution_count": null,
   "id": "309d5a60-fe99-411c-a056-235a28307cbf",
   "metadata": {},
   "outputs": [],
   "source": []
  },
  {
   "cell_type": "code",
   "execution_count": null,
   "id": "c3dd4854-e7d1-4f76-b336-541d0f290197",
   "metadata": {},
   "outputs": [],
   "source": [
    "#__init__\n",
    "\n",
    "def sum(arg):\n",
    "    total = 0\n",
    "    for val in arg:\n",
    "        total += val\n",
    "    return total\n"
   ]
  },
  {
   "cell_type": "code",
   "execution_count": null,
   "id": "8055d8d2-22d5-4be5-8908-4796e71991b1",
   "metadata": {},
   "outputs": [],
   "source": []
  },
  {
   "cell_type": "code",
   "execution_count": null,
   "id": "31dc3549-12dc-4444-abe9-b40529b575b5",
   "metadata": {},
   "outputs": [],
   "source": [
    "#test\n",
    "\n",
    "from fractions import Fraction\n",
    "\n",
    "import unittest\n",
    "\n",
    "from my_sum import sum\n",
    "\n",
    "\n",
    "class TestSum(unittest.TestCase):\n",
    "    def test_list_int(self):\n",
    "        \"\"\"\n",
    "        Test that it can sum a list of integers\n",
    "        \"\"\"\n",
    "        data = [1, 2, 3]\n",
    "        result = sum(data)\n",
    "        self.assertEqual(result, 6)\n",
    "\n",
    "    def test_list_fraction(self):\n",
    "        \"\"\"\n",
    "        Test that it can sum a list of fractions\n",
    "        \"\"\"\n",
    "        data = [Fraction(1, 4), Fraction(1, 4), Fraction(2, 5)]\n",
    "        result = sum(data)\n",
    "        self.assertEqual(result, 1)\n",
    "\n",
    "if __name__ == '__main__':\n",
    "    unittest.main()\n",
    "\n",
    "#when running a test on this code it will result in "
   ]
  }
 ],
 "metadata": {
  "kernelspec": {
   "display_name": "anaconda-ai-2024.04-py310",
   "language": "python",
   "name": "conda-env-anaconda-ai-2024.04-py310-py"
  },
  "language_info": {
   "codemirror_mode": {
    "name": "ipython",
    "version": 3
   },
   "file_extension": ".py",
   "mimetype": "text/x-python",
   "name": "python",
   "nbconvert_exporter": "python",
   "pygments_lexer": "ipython3",
   "version": "3.10.13"
  }
 },
 "nbformat": 4,
 "nbformat_minor": 5
}
