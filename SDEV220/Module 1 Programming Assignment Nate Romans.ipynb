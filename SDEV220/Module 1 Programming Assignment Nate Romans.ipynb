{
 "cells": [
  {
   "cell_type": "code",
   "execution_count": 15,
   "id": "194870f3-f283-4047-87a6-d3fcc50d62cf",
   "metadata": {},
   "outputs": [
    {
     "name": "stdout",
     "output_type": "stream",
     "text": [
      "There are 3600 seconds in an hour\n",
      "There are 86400 seconds in a day\n",
      "24.0\n",
      "24\n"
     ]
    }
   ],
   "source": [
    "#initializing variables\n",
    "seconds_Per_Min = 60\n",
    "min_Per_Hour = 60\n",
    "hours_Per_Day = 24\n",
    "\n",
    "\n",
    "seconds_Per_Hour = seconds_Per_Min * min_Per_Hour #calculating seconds per hour\n",
    "\n",
    "\n",
    "seconds_Per_Day = seconds_Per_Hour * hours_Per_Day #calculating seconds per day\n",
    "\n",
    "\n",
    "float_Divide = seconds_Per_Day / seconds_Per_Hour #Dividing seconds per day by seconds per hour with the float point operand\n",
    "\n",
    "\n",
    "int_Divide = seconds_Per_Day // seconds_Per_Hour #Dividing seconds per day by seconds per hour with the integer operand\n",
    "\n",
    "\n",
    "print('There are', seconds_Per_Hour, 'seconds in an hour') #printing the seconds in and hour\n",
    "\n",
    "print('There are', seconds_Per_Day, 'seconds in a day') #printing the seconds in a day\n",
    "\n",
    "print(float_Divide) #printing the float point division result\n",
    "\n",
    "print(int_Divide) #printing the integer division result\n",
    "\n",
    "#Did the int division result agree with the floating point division result? yes!"
   ]
  },
  {
   "cell_type": "code",
   "execution_count": null,
   "id": "c9659085-b10c-4747-ba45-0a555d66ca70",
   "metadata": {},
   "outputs": [],
   "source": []
  }
 ],
 "metadata": {
  "kernelspec": {
   "display_name": "anaconda-ai-2024.04-py310",
   "language": "python",
   "name": "conda-env-anaconda-ai-2024.04-py310-py"
  },
  "language_info": {
   "codemirror_mode": {
    "name": "ipython",
    "version": 3
   },
   "file_extension": ".py",
   "mimetype": "text/x-python",
   "name": "python",
   "nbconvert_exporter": "python",
   "pygments_lexer": "ipython3",
   "version": "3.10.13"
  }
 },
 "nbformat": 4,
 "nbformat_minor": 5
}
